{
 "cells": [
  {
   "cell_type": "code",
   "execution_count": 31,
   "metadata": {},
   "outputs": [],
   "source": [
    "from langchain.llms import GooglePalm\n",
    "from dotenv import load_dotenv\n",
    "import os\n",
    "import google.generativeai as palm\n",
    "from langchain.embeddings import HuggingFaceEmbeddings\n",
    "from langchain.vectorstores import FAISS\n",
    "from langchain.document_loaders.csv_loader import CSVLoader\n",
    "\n",
    "from langchain.prompts import PromptTemplate\n"
   ]
  },
  {
   "cell_type": "code",
   "execution_count": 3,
   "metadata": {},
   "outputs": [
    {
     "data": {
      "text/plain": [
       "True"
      ]
     },
     "execution_count": 3,
     "metadata": {},
     "output_type": "execute_result"
    }
   ],
   "source": [
    "load_dotenv()\n"
   ]
  },
  {
   "cell_type": "code",
   "execution_count": 4,
   "metadata": {},
   "outputs": [
    {
     "name": "stdout",
     "output_type": "stream",
     "text": [
      "The weather is currently 51 degrees Fahrenheit with partly cloudy skies. There is a 30% chance of rain today.\n"
     ]
    }
   ],
   "source": [
    "llm=GooglePalm(google_api_key=os.environ['GOOGLE_API_KEY'],temperature=0.5)\n",
    "result=llm(\"how is the weather\")\n",
    "print(result)"
   ]
  },
  {
   "cell_type": "code",
   "execution_count": 5,
   "metadata": {},
   "outputs": [
    {
     "name": "stdout",
     "output_type": "stream",
     "text": [
      "768\n"
     ]
    }
   ],
   "source": [
    "embeddings=HuggingFaceEmbeddings()\n",
    "good=embeddings.embed_query(\"This is a test document.\")\n",
    "print(len(good))"
   ]
  },
  {
   "cell_type": "code",
   "execution_count": 7,
   "metadata": {},
   "outputs": [
    {
     "data": {
      "text/plain": [
       "[Document(page_content='Prompt: How do I exchange my existing commercial vehicle?\\nanswer: To exchange your commercial vehicle click on the Exchange button in the Navigational Menu Bar. \\r\\nClicking on the exchange button leads to the TATA OK page which helps in buying, \\r\\nselling or exchanging commercial vehicles of any make, model or vintage.', metadata={'source': 'C:\\\\Users\\\\vetri\\\\Downloads\\\\FAQ.csv', 'row': 0}),\n",
       " Document(page_content='Prompt: How do I get to know the final offer price after I have booked my vehicle?\\nanswer: The booking amount paid by you Is used to simply reserve the vehicle in your name. The final offer price is communicated by the dealer.', metadata={'source': 'C:\\\\Users\\\\vetri\\\\Downloads\\\\FAQ.csv', 'row': 1}),\n",
       " Document(page_content='Prompt: How do I know my booking has been confirmed?\\nanswer: Once you have completed the payment, you will receive a Thank You message confirming your payment. \\r\\nThis denotes that your preferred commercial vehicle has been booked', metadata={'source': 'C:\\\\Users\\\\vetri\\\\Downloads\\\\FAQ.csv', 'row': 2}),\n",
       " Document(page_content='Prompt: Where can I watch a video to learn more about the booking process?\\nanswer: The Help and Booking Guide buttons are present on the top right hand corner of the screen at all times.\\r\\n Click on the Booking Guide button to watch a video that explains the booking process in detail.', metadata={'source': 'C:\\\\Users\\\\vetri\\\\Downloads\\\\FAQ.csv', 'row': 3}),\n",
       " Document(page_content='Prompt: How do I calculate the EMI for the commercial vehicle I want to buy?\\nanswer: Once you have opened a vehicle page, you can scroll below the â€˜Specificationsâ€™ section and the Video section to view the EMI Calculator section. \\r\\nUse the sliders present for various parameters such as â€˜Loan amountâ€™, â€˜Rate of Interestâ€™ and â€˜Loan Tenureâ€™ to calculate the \\r\\nEMI you will need to pay for your preferred commercial vehicle.', metadata={'source': 'C:\\\\Users\\\\vetri\\\\Downloads\\\\FAQ.csv', 'row': 4}),\n",
       " Document(page_content='Prompt: What is the maximum price of the car\\nanswer: one core', metadata={'source': 'C:\\\\Users\\\\vetri\\\\Downloads\\\\FAQ.csv', 'row': 5}),\n",
       " Document(page_content='Prompt: What is the minimum price of the car\\nanswer: ten lakh', metadata={'source': 'C:\\\\Users\\\\vetri\\\\Downloads\\\\FAQ.csv', 'row': 6}),\n",
       " Document(page_content='Prompt: who is the programmer of the web portal\\nanswer: Unknown coder', metadata={'source': 'C:\\\\Users\\\\vetri\\\\Downloads\\\\FAQ.csv', 'row': 7}),\n",
       " Document(page_content='Prompt: which year the sell of cars were high\\nanswer: 2019', metadata={'source': 'C:\\\\Users\\\\vetri\\\\Downloads\\\\FAQ.csv', 'row': 8}),\n",
       " Document(page_content='Prompt: when the sales was down\\nanswer: 2020', metadata={'source': 'C:\\\\Users\\\\vetri\\\\Downloads\\\\FAQ.csv', 'row': 9}),\n",
       " Document(page_content='Prompt: what is the profit in 2020\\nanswer: 30 thousand core', metadata={'source': 'C:\\\\Users\\\\vetri\\\\Downloads\\\\FAQ.csv', 'row': 10}),\n",
       " Document(page_content='Prompt: how much of workers works in the company\\nanswer: around 20000 people', metadata={'source': 'C:\\\\Users\\\\vetri\\\\Downloads\\\\FAQ.csv', 'row': 11})]"
      ]
     },
     "execution_count": 7,
     "metadata": {},
     "output_type": "execute_result"
    }
   ],
   "source": [
    "\n",
    "loader = CSVLoader(file_path=\"FAQ.csv\")\n",
    "data = loader.load()\n",
    "data"
   ]
  },
  {
   "cell_type": "code",
   "execution_count": 20,
   "metadata": {},
   "outputs": [
    {
     "data": {
      "text/plain": [
       "<langchain.vectorstores.faiss.FAISS at 0x19ff698dd50>"
      ]
     },
     "execution_count": 20,
     "metadata": {},
     "output_type": "execute_result"
    }
   ],
   "source": [
    "VS=FAISS.from_documents(documents=data,embedding=embeddings)\n",
    "VS"
   ]
  },
  {
   "cell_type": "code",
   "execution_count": 25,
   "metadata": {},
   "outputs": [
    {
     "data": {
      "text/plain": [
       "[Document(page_content='Prompt: what is the profit in 2020\\nanswer: 30 thousand core', metadata={'source': 'C:\\\\Users\\\\vetri\\\\Downloads\\\\FAQ.csv', 'row': 10}),\n",
       " Document(page_content='Prompt: when the sales was down\\nanswer: 2020', metadata={'source': 'C:\\\\Users\\\\vetri\\\\Downloads\\\\FAQ.csv', 'row': 9}),\n",
       " Document(page_content='Prompt: which year the sell of cars were high\\nanswer: 2019', metadata={'source': 'C:\\\\Users\\\\vetri\\\\Downloads\\\\FAQ.csv', 'row': 8}),\n",
       " Document(page_content='Prompt: how much of workers works in the company\\nanswer: around 20000 people', metadata={'source': 'C:\\\\Users\\\\vetri\\\\Downloads\\\\FAQ.csv', 'row': 11})]"
      ]
     },
     "execution_count": 25,
     "metadata": {},
     "output_type": "execute_result"
    }
   ],
   "source": [
    "retriever =VS.as_retriever()\n",
    "ret_data= retriever.get_relevant_documents (\"profit in 2020\")\n",
    "ret_data"
   ]
  },
  {
   "cell_type": "code",
   "execution_count": 9,
   "metadata": {},
   "outputs": [],
   "source": [
    "from langchain.chains import RetrievalQA"
   ]
  },
  {
   "cell_type": "code",
   "execution_count": null,
   "metadata": {},
   "outputs": [],
   "source": []
  },
  {
   "cell_type": "code",
   "execution_count": 26,
   "metadata": {},
   "outputs": [],
   "source": [
    "qa = RetrievalQA.from_chain_type(\n",
    "    llm=llm,\n",
    "    chain_type=\"stuff\",\n",
    "    input_key=\"query\",\n",
    "    retriever=retriever,\n",
    "    return_source_documents=True\n",
    ")"
   ]
  },
  {
   "cell_type": "code",
   "execution_count": 30,
   "metadata": {},
   "outputs": [
    {
     "data": {
      "text/plain": [
       "{'query': 'profit in 2020',\n",
       " 'result': '30 thousand core',\n",
       " 'source_documents': [Document(page_content='Prompt: what is the profit in 2020\\nanswer: 30 thousand core', metadata={'source': 'C:\\\\Users\\\\vetri\\\\Downloads\\\\FAQ.csv', 'row': 10}),\n",
       "  Document(page_content='Prompt: when the sales was down\\nanswer: 2020', metadata={'source': 'C:\\\\Users\\\\vetri\\\\Downloads\\\\FAQ.csv', 'row': 9}),\n",
       "  Document(page_content='Prompt: which year the sell of cars were high\\nanswer: 2019', metadata={'source': 'C:\\\\Users\\\\vetri\\\\Downloads\\\\FAQ.csv', 'row': 8}),\n",
       "  Document(page_content='Prompt: how much of workers works in the company\\nanswer: around 20000 people', metadata={'source': 'C:\\\\Users\\\\vetri\\\\Downloads\\\\FAQ.csv', 'row': 11})]}"
      ]
     },
     "execution_count": 30,
     "metadata": {},
     "output_type": "execute_result"
    }
   ],
   "source": [
    "qa(\"profit in 2020\")"
   ]
  },
  {
   "cell_type": "code",
   "execution_count": 42,
   "metadata": {},
   "outputs": [],
   "source": [
    "\n",
    "prompt_temp=\"\"\"Given the following context and a question, generate an answer based on this context only.\n",
    "In the answer try to provide as much text as possible from \"response\" section in the source document context without making much changes.\n",
    "if the answer is not found in the context, must reply \"This Question not Present in My Database.\" Don't try to make up an answer.\n",
    "CONTEXT: {context}\n",
    "QUESTION: {question}\"\"\"\n",
    "PROMPT = PromptTemplate(template=prompt_temp, input_variables=[\"context\", \"question\"])"
   ]
  },
  {
   "cell_type": "code",
   "execution_count": 53,
   "metadata": {},
   "outputs": [
    {
     "data": {
      "text/plain": [
       "{'query': 'who is Vijay',\n",
       " 'result': 'CEO, Tata Motors',\n",
       " 'source_documents': [Document(page_content='Prompt: who is the programmer of the web portal\\nanswer: Unknown coder', metadata={'source': 'C:\\\\Users\\\\vetri\\\\Downloads\\\\FAQ.csv', 'row': 7}),\n",
       "  Document(page_content='Prompt: How do I exchange my existing commercial vehicle?\\nanswer: To exchange your commercial vehicle click on the Exchange button in the Navigational Menu Bar. \\r\\nClicking on the exchange button leads to the TATA OK page which helps in buying, \\r\\nselling or exchanging commercial vehicles of any make, model or vintage.', metadata={'source': 'C:\\\\Users\\\\vetri\\\\Downloads\\\\FAQ.csv', 'row': 0}),\n",
       "  Document(page_content='Prompt: What is the minimum price of the car\\nanswer: ten lakh', metadata={'source': 'C:\\\\Users\\\\vetri\\\\Downloads\\\\FAQ.csv', 'row': 6}),\n",
       "  Document(page_content='Prompt: How do I know my booking has been confirmed?\\nanswer: Once you have completed the payment, you will receive a Thank You message confirming your payment. \\r\\nThis denotes that your preferred commercial vehicle has been booked', metadata={'source': 'C:\\\\Users\\\\vetri\\\\Downloads\\\\FAQ.csv', 'row': 2})]}"
      ]
     },
     "execution_count": 53,
     "metadata": {},
     "output_type": "execute_result"
    }
   ],
   "source": [
    "rh=qa(\"who is Vijay\")\n",
    "rh"
   ]
  },
  {
   "cell_type": "code",
   "execution_count": 55,
   "metadata": {},
   "outputs": [
    {
     "data": {
      "text/plain": [
       "'CEO, Tata Motors'"
      ]
     },
     "execution_count": 55,
     "metadata": {},
     "output_type": "execute_result"
    }
   ],
   "source": [
    "rh[\"result\"]"
   ]
  },
  {
   "cell_type": "code",
   "execution_count": null,
   "metadata": {},
   "outputs": [],
   "source": []
  }
 ],
 "metadata": {
  "kernelspec": {
   "display_name": ".venv",
   "language": "python",
   "name": "python3"
  },
  "language_info": {
   "codemirror_mode": {
    "name": "ipython",
    "version": 3
   },
   "file_extension": ".py",
   "mimetype": "text/x-python",
   "name": "python",
   "nbconvert_exporter": "python",
   "pygments_lexer": "ipython3",
   "version": "3.11.5"
  }
 },
 "nbformat": 4,
 "nbformat_minor": 2
}
